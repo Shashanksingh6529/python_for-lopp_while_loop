{
 "cells": [
  {
   "cell_type": "markdown",
   "id": "deb8e607-5303-4fd2-aa78-d965505a6451",
   "metadata": {},
   "source": [
    "Q1. Explanation of when to use a for loop and a while loop:"
   ]
  },
  {
   "cell_type": "code",
   "execution_count": 1,
   "id": "ebe222d7-ef11-4f02-9156-f12ddeac4fe7",
   "metadata": {},
   "outputs": [
    {
     "name": "stdout",
     "output_type": "stream",
     "text": [
      "1\n",
      "2\n",
      "3\n",
      "4\n",
      "5\n",
      "1\n",
      "2\n",
      "3\n",
      "4\n",
      "5\n"
     ]
    }
   ],
   "source": [
    "for i in range(1, 6):\n",
    "    print(i)\n",
    "    \n",
    "i = 1\n",
    "while i <= 5:\n",
    "    print(i)\n",
    "    i += 1"
   ]
  },
  {
   "cell_type": "markdown",
   "id": "1b9235e3-caf4-4d1e-96de-ad98df6db664",
   "metadata": {},
   "source": [
    "Q2. Python program to print the sum and product of the first 10 natural numbers using for and while loop:"
   ]
  },
  {
   "cell_type": "code",
   "execution_count": 2,
   "id": "0a3de115-4ba0-44a1-bd3d-182270541eb4",
   "metadata": {},
   "outputs": [
    {
     "name": "stdout",
     "output_type": "stream",
     "text": [
      "Sum using for loop: 55\n",
      "Product using for loop: 3628800\n",
      "Sum using while loop: 55\n",
      "Product using while loop: 3628800\n"
     ]
    }
   ],
   "source": [
    "# Using for loop\n",
    "sum_for = 0\n",
    "product_for = 1\n",
    "for i in range(1, 11):\n",
    "    sum_for += i\n",
    "    product_for *= i\n",
    "\n",
    "print(\"Sum using for loop:\", sum_for)\n",
    "print(\"Product using for loop:\", product_for)\n",
    "\n",
    "# Using while loop\n",
    "sum_while = 0\n",
    "product_while = 1\n",
    "i = 1\n",
    "while i <= 10:\n",
    "    sum_while += i\n",
    "    product_while *= i\n",
    "    i += 1\n",
    "\n",
    "print(\"Sum using while loop:\", sum_while)\n",
    "print(\"Product using while loop:\", product_while)"
   ]
  },
  {
   "cell_type": "raw",
   "id": "1438ea2a-4a5c-4ccd-b3aa-b1c75e3e95dd",
   "metadata": {},
   "source": [
    "Q3. Python program to compute the electricity bill for a household:"
   ]
  },
  {
   "cell_type": "code",
   "execution_count": 3,
   "id": "d32e22d6-f9b5-4105-bcde-76618ca776e7",
   "metadata": {},
   "outputs": [
    {
     "name": "stdin",
     "output_type": "stream",
     "text": [
      "Enter the number of units consumed:  45\n"
     ]
    },
    {
     "name": "stdout",
     "output_type": "stream",
     "text": [
      "Total electricity bill: Rs. 202.5\n"
     ]
    }
   ],
   "source": [
    "units = int(input(\"Enter the number of units consumed: \"))\n",
    "\n",
    "total_bill = 0\n",
    "\n",
    "if units <= 100:\n",
    "    total_bill = units * 4.5\n",
    "elif units <= 200:\n",
    "    total_bill = 100 * 4.5 + (units - 100) * 6\n",
    "elif units <= 300:\n",
    "    total_bill = 100 * 4.5 + 100 * 6 + (units - 200) * 10\n",
    "else:\n",
    "    total_bill = 100 * 4.5 + 100 * 6 + 100 * 10 + (units - 300) * 20\n",
    "\n",
    "print(\"Total electricity bill: Rs.\", total_bill)"
   ]
  },
  {
   "cell_type": "markdown",
   "id": "367d56e2-e383-4f54-a71a-008c9ca857c2",
   "metadata": {},
   "source": [
    "Q4. Python program to calculate the cubes of numbers from 1 to 100:"
   ]
  },
  {
   "cell_type": "code",
   "execution_count": 4,
   "id": "47995893-8773-4dd0-ae5b-991ec63ce815",
   "metadata": {},
   "outputs": [
    {
     "name": "stdout",
     "output_type": "stream",
     "text": [
      "Using for loop: [2, 4, 5, 6, 8, 10, 12, 14, 15, 16, 18, 20, 22, 24, 25, 26, 28, 30, 32, 34, 35, 36, 38, 40, 42, 44, 45, 46, 48, 50, 52, 54, 55, 56, 58, 60, 62, 64, 65, 66, 68, 70, 72, 74, 75, 76, 78, 80, 82, 84, 85, 86, 88, 90, 92, 94, 95, 96, 98, 100]\n",
      "Using while loop: [2, 4, 5, 6, 8, 10, 12, 14, 15, 16, 18, 20, 22, 24, 25, 26, 28, 30, 32, 34, 35, 36, 38, 40, 42, 44, 45, 46, 48, 50, 52, 54, 55, 56, 58, 60, 62, 64, 65, 66, 68, 70, 72, 74, 75, 76, 78, 80, 82, 84, 85, 86, 88, 90, 92, 94, 95, 96, 98, 100]\n"
     ]
    }
   ],
   "source": [
    "cubes_divisible = []\n",
    "\n",
    "# Using for loop\n",
    "for num in range(1, 101):\n",
    "    cube = num ** 3\n",
    "    if cube % 4 == 0 or cube % 5 == 0:\n",
    "        cubes_divisible.append(num)\n",
    "\n",
    "print(\"Using for loop:\", cubes_divisible)\n",
    "\n",
    "# Using while loop\n",
    "cubes_divisible.clear()\n",
    "num = 1\n",
    "while num <= 100:\n",
    "    cube = num ** 3\n",
    "    if cube % 4 == 0 or cube % 5 == 0:\n",
    "        cubes_divisible.append(num)\n",
    "    num += 1\n",
    "\n",
    "print(\"Using while loop:\", cubes_divisible)"
   ]
  },
  {
   "cell_type": "markdown",
   "id": "30477ead-b2fd-4fbf-9423-32044567bd49",
   "metadata": {},
   "source": [
    "Q5. Python program to count vowels in a given string:"
   ]
  },
  {
   "cell_type": "code",
   "execution_count": 5,
   "id": "7f587806-b18d-43f7-9938-6ae016f5b75a",
   "metadata": {},
   "outputs": [
    {
     "name": "stdout",
     "output_type": "stream",
     "text": [
      "Number of vowels: 12\n"
     ]
    }
   ],
   "source": [
    "string = \"I want to become a data scientist\"\n",
    "vowels = 'aeiouAEIOU'\n",
    "\n",
    "count = 0\n",
    "for char in string:\n",
    "    if char in vowels:\n",
    "        count += 1\n",
    "\n",
    "print(\"Number of vowels:\", count)"
   ]
  },
  {
   "cell_type": "code",
   "execution_count": null,
   "id": "5e7dc50c-728d-492a-8bf5-7485e9640863",
   "metadata": {},
   "outputs": [],
   "source": []
  }
 ],
 "metadata": {
  "kernelspec": {
   "display_name": "Python 3 (ipykernel)",
   "language": "python",
   "name": "python3"
  },
  "language_info": {
   "codemirror_mode": {
    "name": "ipython",
    "version": 3
   },
   "file_extension": ".py",
   "mimetype": "text/x-python",
   "name": "python",
   "nbconvert_exporter": "python",
   "pygments_lexer": "ipython3",
   "version": "3.10.8"
  }
 },
 "nbformat": 4,
 "nbformat_minor": 5
}
